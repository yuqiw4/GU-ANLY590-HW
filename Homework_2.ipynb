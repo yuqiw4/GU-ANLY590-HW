{
  "nbformat": 4,
  "nbformat_minor": 0,
  "metadata": {
    "colab": {
      "name": "ANLY-590 Assignment 2.ipynb",
      "version": "0.3.2",
      "provenance": [],
      "include_colab_link": true
    },
    "kernelspec": {
      "name": "python3",
      "display_name": "Python 3"
    },
    "accelerator": "TPU"
  },
  "cells": [
    {
      "cell_type": "markdown",
      "metadata": {
        "id": "view-in-github",
        "colab_type": "text"
      },
      "source": [
        "<a href=\"https://colab.research.google.com/github/yuqiw4/GU-ANLY590-HW/blob/master/Homework_2.ipynb\" target=\"_parent\"><img src=\"https://colab.research.google.com/assets/colab-badge.svg\" alt=\"Open In Colab\"/></a>"
      ]
    },
    {
      "metadata": {
        "id": "2ypb3PuZpiT-",
        "colab_type": "text"
      },
      "cell_type": "markdown",
      "source": [
        "## 1  Autoencoder"
      ]
    },
    {
      "metadata": {
        "id": "XhRGJOQ1WKk3",
        "colab_type": "text"
      },
      "cell_type": "markdown",
      "source": [
        "Code for building a convolutional autoencoder:"
      ]
    },
    {
      "metadata": {
        "id": "YmtNbabPpiUA",
        "colab_type": "code",
        "outputId": "8255656e-5b75-43c0-a329-66f5552898c5",
        "colab": {
          "base_uri": "https://localhost:8080/",
          "height": 35
        }
      },
      "cell_type": "code",
      "source": [
        "from keras.layers import Input, Dense, Conv2D, MaxPooling2D, UpSampling2D\n",
        "from keras.models import Model\n",
        "from keras import backend as K\n",
        "from keras.datasets import mnist\n",
        "import numpy as np\n",
        "import matplotlib.pyplot as plt\n",
        "\n",
        "input_img = Input(shape=(28, 28, 1))  \n",
        "\n",
        "x = Conv2D(16, (3, 3), activation='relu', padding='same')(input_img)\n",
        "x = MaxPooling2D((2, 2), padding='same')(x)\n",
        "x = Conv2D(8, (3, 3), activation='relu', padding='same')(x)\n",
        "x = MaxPooling2D((2, 2), padding='same')(x)\n",
        "x = Conv2D(8, (3, 3), activation='relu', padding='same')(x)\n",
        "encoded = MaxPooling2D((2, 2), padding='same')(x)\n",
        "\n",
        "# at this point the representation is (4, 4, 8) i.e. 128-dimensional\n",
        "\n",
        "x = Conv2D(8, (3, 3), activation='relu', padding='same')(encoded)\n",
        "x = UpSampling2D((2, 2))(x)\n",
        "x = Conv2D(8, (3, 3), activation='relu', padding='same')(x)\n",
        "x = UpSampling2D((2, 2))(x)\n",
        "x = Conv2D(16, (3, 3), activation='relu')(x)\n",
        "x = UpSampling2D((2, 2))(x)\n",
        "decoded = Conv2D(1, (3, 3), activation='sigmoid', padding='same')(x)\n",
        "\n",
        "autoencoder = Model(input_img, decoded)\n",
        "autoencoder.compile(optimizer='adadelta', loss='binary_crossentropy')"
      ],
      "execution_count": 0,
      "outputs": [
        {
          "output_type": "stream",
          "text": [
            "Using TensorFlow backend.\n"
          ],
          "name": "stderr"
        }
      ]
    },
    {
      "metadata": {
        "id": "PNh0aFkHWeC_",
        "colab_type": "text"
      },
      "cell_type": "markdown",
      "source": [
        "Loading in the training data and testing data from MNIST dataset, we also need to do some data preprocessing."
      ]
    },
    {
      "metadata": {
        "id": "xSXHXyGEpiUF",
        "colab_type": "code",
        "outputId": "833aeaec-ae34-4689-ef91-8d14d645f074",
        "colab": {
          "base_uri": "https://localhost:8080/",
          "height": 53
        }
      },
      "cell_type": "code",
      "source": [
        "(x_train, y_train), (x_test, y_test) = mnist.load_data()\n",
        "\n",
        "x_train = x_train.astype('float32') / 255.\n",
        "x_test = x_test.astype('float32') / 255.\n",
        "x_train = np.reshape(x_train, (len(x_train), 28, 28, 1)) \n",
        "x_test = np.reshape(x_test, (len(x_test), 28, 28, 1)) "
      ],
      "execution_count": 0,
      "outputs": [
        {
          "output_type": "stream",
          "text": [
            "Downloading data from https://s3.amazonaws.com/img-datasets/mnist.npz\n",
            "11493376/11490434 [==============================] - 7s 1us/step\n"
          ],
          "name": "stdout"
        }
      ]
    },
    {
      "metadata": {
        "id": "wtM9kHhRWsyT",
        "colab_type": "text"
      },
      "cell_type": "markdown",
      "source": [
        "Code for training the autoencoder:"
      ]
    },
    {
      "metadata": {
        "id": "Fjr-6vivpiUJ",
        "colab_type": "code",
        "outputId": "c4f28815-72f6-49db-9f00-56fff8d4c5e7",
        "colab": {
          "base_uri": "https://localhost:8080/",
          "height": 413
        }
      },
      "cell_type": "code",
      "source": [
        "autoencoder.fit(x_train, x_train,\n",
        "                epochs=10,\n",
        "                batch_size=128,\n",
        "                shuffle=True,\n",
        "                validation_data=(x_test, x_test))"
      ],
      "execution_count": 0,
      "outputs": [
        {
          "output_type": "stream",
          "text": [
            "Train on 60000 samples, validate on 10000 samples\n",
            "Epoch 1/10\n",
            "60000/60000 [==============================] - 7s 120us/step - loss: 0.1297 - val_loss: 0.1292\n",
            "Epoch 2/10\n",
            "60000/60000 [==============================] - 7s 118us/step - loss: 0.1250 - val_loss: 0.1271\n",
            "Epoch 3/10\n",
            "60000/60000 [==============================] - 7s 118us/step - loss: 0.1215 - val_loss: 0.1190\n",
            "Epoch 4/10\n",
            "60000/60000 [==============================] - 7s 113us/step - loss: 0.1188 - val_loss: 0.1162\n",
            "Epoch 5/10\n",
            "60000/60000 [==============================] - 7s 112us/step - loss: 0.1162 - val_loss: 0.1142\n",
            "Epoch 6/10\n",
            "60000/60000 [==============================] - 7s 112us/step - loss: 0.1150 - val_loss: 0.1117\n",
            "Epoch 7/10\n",
            "60000/60000 [==============================] - 7s 111us/step - loss: 0.1133 - val_loss: 0.1104\n",
            "Epoch 8/10\n",
            "60000/60000 [==============================] - 7s 111us/step - loss: 0.1121 - val_loss: 0.1076\n",
            "Epoch 9/10\n",
            "60000/60000 [==============================] - 7s 112us/step - loss: 0.1110 - val_loss: 0.1104\n",
            "Epoch 10/10\n",
            "60000/60000 [==============================] - 7s 113us/step - loss: 0.1103 - val_loss: 0.1143\n"
          ],
          "name": "stdout"
        },
        {
          "output_type": "execute_result",
          "data": {
            "text/plain": [
              "<keras.callbacks.History at 0x7f5778c0bf60>"
            ]
          },
          "metadata": {
            "tags": []
          },
          "execution_count": 6
        }
      ]
    },
    {
      "metadata": {
        "id": "vSlpEmMUW0BZ",
        "colab_type": "text"
      },
      "cell_type": "markdown",
      "source": [
        "Here are some examples of input images and\n",
        "their decoded reconstruction:"
      ]
    },
    {
      "metadata": {
        "id": "-oF1JpqapiUQ",
        "colab_type": "code",
        "outputId": "c4611e17-fade-4fa8-feb9-0d27b8946d77",
        "colab": {
          "base_uri": "https://localhost:8080/",
          "height": 244
        }
      },
      "cell_type": "code",
      "source": [
        "decoded_imgs = autoencoder.predict(x_test)\n",
        "\n",
        "n = 10\n",
        "plt.figure(figsize=(20, 4))\n",
        "for i in range(n):\n",
        "    # display original\n",
        "    ax = plt.subplot(2, n, i + 1)\n",
        "    plt.imshow(x_test[i].reshape(28, 28))\n",
        "    plt.gray()\n",
        "    ax.get_xaxis().set_visible(False)\n",
        "    ax.get_yaxis().set_visible(False)\n",
        "\n",
        "    # display reconstruction\n",
        "    ax = plt.subplot(2, n, i + 1 + n)\n",
        "    plt.imshow(decoded_imgs[i].reshape(28, 28))\n",
        "    plt.gray()\n",
        "    ax.get_xaxis().set_visible(False)\n",
        "    ax.get_yaxis().set_visible(False)\n",
        "plt.show()\n"
      ],
      "execution_count": 0,
      "outputs": [
        {
          "output_type": "display_data",
          "data": {
            "image/png": "[encoded data removed]",
            "text/plain": [
              "<matplotlib.figure.Figure at 0x7f57b7f47c50>"
            ]
          },
          "metadata": {
            "tags": []
          }
        }
      ]
    },
    {
      "metadata": {
        "id": "-ul7RRV7piUW",
        "colab_type": "text"
      },
      "cell_type": "markdown",
      "source": [
        "## 2  Image Classification\n",
        "###  2.1 Deep CNN"
      ]
    },
    {
      "metadata": {
        "id": "qlsOBPMLpiUX",
        "colab_type": "code",
        "outputId": "470283b5-cc77-4d00-82f0-d0439eed6ca5",
        "colab": {
          "base_uri": "https://localhost:8080/",
          "height": 35
        }
      },
      "cell_type": "code",
      "source": [
        "from keras.applications import VGG16\n",
        "from keras.preprocessing import image\n",
        "import numpy as np\n",
        "from keras.datasets import mnist\n",
        "from keras.models import Sequential\n",
        "from keras.layers import Dense, Flatten, Conv2D, MaxPooling2D, Dropout\n",
        "from keras.utils import np_utils\n",
        "import matplotlib.pyplot as plt\n",
        "plt.viridis()"
      ],
      "execution_count": 0,
      "outputs": [
        {
          "output_type": "display_data",
          "data": {
            "text/plain": [
              "<matplotlib.figure.Figure at 0x7f5772687e80>"
            ]
          },
          "metadata": {
            "tags": []
          }
        }
      ]
    },
    {
      "metadata": {
        "id": "OonF6TpMXBBx",
        "colab_type": "text"
      },
      "cell_type": "markdown",
      "source": [
        "Loading in the training data and testing data from MNIST dataset, we also need to do some data preprocessing."
      ]
    },
    {
      "metadata": {
        "id": "XB0Kb8ULpiUc",
        "colab_type": "code",
        "colab": {}
      },
      "cell_type": "code",
      "source": [
        "(X_train, y_train), (X_test, y_test) = mnist.load_data()\n",
        "X_train = X_train.reshape(X_train.shape[0], 28, 28,1)\n",
        "X_test = X_test.reshape(X_test.shape[0], 28, 28,1)\n",
        "\n",
        "\n",
        "X_train = X_train.astype('float32')\n",
        "X_test = X_test.astype('float32')\n",
        "X_train /= 255\n",
        "X_test /= 255\n",
        "\n",
        "\n",
        "Y_train = np_utils.to_categorical(y_train, 10)\n",
        "Y_test = np_utils.to_categorical(y_test, 10)"
      ],
      "execution_count": 0,
      "outputs": []
    },
    {
      "metadata": {
        "id": "gKu_y5KYXmeK",
        "colab_type": "text"
      },
      "cell_type": "markdown",
      "source": [
        "Code for building a deep convolutional neural network:"
      ]
    },
    {
      "metadata": {
        "id": "zTNFPtLGpiUg",
        "colab_type": "code",
        "colab": {}
      },
      "cell_type": "code",
      "source": [
        "model = Sequential()\n",
        "model.add(Conv2D(filters = 32,kernel_size=(3, 3), \n",
        "                 activation='relu', strides=(1, 1), \n",
        "                 padding='valid',\n",
        "                 input_shape=(28,28,1)))\n",
        "model.add(Conv2D(filters = 64,kernel_size=(3, 3), \n",
        "                 activation='relu', strides=(1, 1), \n",
        "                 padding='valid'))\n",
        "model.add(MaxPooling2D(pool_size=(2,2)))\n",
        "model.add(Dropout(0.25))\n",
        "model.add(Flatten())\n",
        "model.add(Dense(128, activation='relu'))\n",
        "model.add(Dropout(0.5))\n",
        "model.add(Dense(10, activation='softmax'))\n",
        "\n",
        "\n",
        "model.compile(loss='categorical_crossentropy',\n",
        "              optimizer='adadelta',\n",
        "              metrics=['accuracy'])"
      ],
      "execution_count": 0,
      "outputs": []
    },
    {
      "metadata": {
        "id": "Hm0eD7LPX37j",
        "colab_type": "text"
      },
      "cell_type": "markdown",
      "source": [
        "Code for training the deep CNN:"
      ]
    },
    {
      "metadata": {
        "id": "BEccq0fUpiUm",
        "colab_type": "code",
        "outputId": "ff0cb4a1-9de2-471d-d76a-b35bd3ab008a",
        "colab": {
          "base_uri": "https://localhost:8080/",
          "height": 395
        }
      },
      "cell_type": "code",
      "source": [
        "batch_size = 128\n",
        "num_epoch = 10\n",
        "#model training\n",
        "model_training = model.fit(X_train, Y_train,\n",
        "          batch_size=batch_size,\n",
        "          epochs=num_epoch,\n",
        "          verbose=1,\n",
        "          validation_data=(X_test, Y_test))"
      ],
      "execution_count": 0,
      "outputs": [
        {
          "output_type": "stream",
          "text": [
            "Train on 60000 samples, validate on 10000 samples\n",
            "Epoch 1/10\n",
            "60000/60000 [==============================] - 11s 175us/step - loss: 0.2670 - acc: 0.9167 - val_loss: 0.0735 - val_acc: 0.9766\n",
            "Epoch 2/10\n",
            "60000/60000 [==============================] - 9s 153us/step - loss: 0.0902 - acc: 0.9733 - val_loss: 0.0433 - val_acc: 0.9847\n",
            "Epoch 3/10\n",
            "60000/60000 [==============================] - 9s 150us/step - loss: 0.0666 - acc: 0.9804 - val_loss: 0.0365 - val_acc: 0.9873\n",
            "Epoch 4/10\n",
            "60000/60000 [==============================] - 9s 151us/step - loss: 0.0555 - acc: 0.9837 - val_loss: 0.0309 - val_acc: 0.9894\n",
            "Epoch 5/10\n",
            "60000/60000 [==============================] - 9s 150us/step - loss: 0.0483 - acc: 0.9861 - val_loss: 0.0270 - val_acc: 0.9904\n",
            "Epoch 6/10\n",
            "60000/60000 [==============================] - 9s 151us/step - loss: 0.0424 - acc: 0.9870 - val_loss: 0.0293 - val_acc: 0.9906\n",
            "Epoch 7/10\n",
            "60000/60000 [==============================] - 9s 151us/step - loss: 0.0362 - acc: 0.9889 - val_loss: 0.0269 - val_acc: 0.9916\n",
            "Epoch 8/10\n",
            "60000/60000 [==============================] - 9s 155us/step - loss: 0.0338 - acc: 0.9898 - val_loss: 0.0280 - val_acc: 0.9914\n",
            "Epoch 9/10\n",
            "60000/60000 [==============================] - 9s 153us/step - loss: 0.0315 - acc: 0.9902 - val_loss: 0.0247 - val_acc: 0.9921\n",
            "Epoch 10/10\n",
            "60000/60000 [==============================] - 9s 150us/step - loss: 0.0299 - acc: 0.9907 - val_loss: 0.0273 - val_acc: 0.9917\n"
          ],
          "name": "stdout"
        }
      ]
    },
    {
      "metadata": {
        "id": "0Xd1c3SgX_ja",
        "colab_type": "text"
      },
      "cell_type": "markdown",
      "source": [
        "Plot for accuracy change during traing:"
      ]
    },
    {
      "metadata": {
        "id": "4ucsFZGkpiUs",
        "colab_type": "code",
        "outputId": "1352ffaf-ad88-4e93-fc04-7d0cd4b21b5e",
        "colab": {
          "base_uri": "https://localhost:8080/",
          "height": 365
        }
      },
      "cell_type": "code",
      "source": [
        "plt.plot(model_training.history[\"acc\"])"
      ],
      "execution_count": 0,
      "outputs": [
        {
          "output_type": "execute_result",
          "data": {
            "text/plain": [
              "[<matplotlib.lines.Line2D at 0x7f5772071a90>]"
            ]
          },
          "metadata": {
            "tags": []
          },
          "execution_count": 12
        },
        {
          "output_type": "display_data",
          "data": {
            "image/png": "[encoded data removed]",
            "text/plain": [
              "<matplotlib.figure.Figure at 0x7f57726959b0>"
            ]
          },
          "metadata": {
            "tags": []
          }
        }
      ]
    },
    {
      "metadata": {
        "id": "3QDRyE6PYJoE",
        "colab_type": "text"
      },
      "cell_type": "markdown",
      "source": [
        "Plot for loss change during traing:"
      ]
    },
    {
      "metadata": {
        "id": "LIgJbV0-piU8",
        "colab_type": "code",
        "outputId": "ef0a0348-fbc2-4a50-9081-96661a73aabd",
        "colab": {
          "base_uri": "https://localhost:8080/",
          "height": 365
        }
      },
      "cell_type": "code",
      "source": [
        "plt.plot(model_training.history[\"loss\"])"
      ],
      "execution_count": 0,
      "outputs": [
        {
          "output_type": "execute_result",
          "data": {
            "text/plain": [
              "[<matplotlib.lines.Line2D at 0x7f575ffdc278>]"
            ]
          },
          "metadata": {
            "tags": []
          },
          "execution_count": 13
        },
        {
          "output_type": "display_data",
          "data": {
            "image/png": "[encoded data removed]",
            "text/plain": [
              "<matplotlib.figure.Figure at 0x7f577205a898>"
            ]
          },
          "metadata": {
            "tags": []
          }
        }
      ]
    },
    {
      "metadata": {
        "id": "42s7BbAUYM_g",
        "colab_type": "text"
      },
      "cell_type": "markdown",
      "source": [
        "Here are the final loss and final accuracy:"
      ]
    },
    {
      "metadata": {
        "id": "fGUpC21opiVJ",
        "colab_type": "code",
        "outputId": "67b98802-c9ad-4b84-d45c-6409ef9c8777",
        "colab": {
          "base_uri": "https://localhost:8080/",
          "height": 53
        }
      },
      "cell_type": "code",
      "source": [
        "score = model.evaluate(X_test, Y_test, verbose=0)\n",
        "print('Test loss:', score[0])\n",
        "print('Test accuracy:', score[1])"
      ],
      "execution_count": 0,
      "outputs": [
        {
          "output_type": "stream",
          "text": [
            "Test loss: 0.02731422467695702\n",
            "Test accuracy: 0.9917\n"
          ],
          "name": "stdout"
        }
      ]
    },
    {
      "metadata": {
        "id": "FdvNg3kAYTLf",
        "colab_type": "text"
      },
      "cell_type": "markdown",
      "source": [
        "Here are some examples of true y values and predicted y by our deep CNN model."
      ]
    },
    {
      "metadata": {
        "id": "JRU3-P79piVP",
        "colab_type": "code",
        "outputId": "aa204349-58fb-45f7-cca8-5afe79f6163e",
        "colab": {
          "base_uri": "https://localhost:8080/",
          "height": 35
        }
      },
      "cell_type": "code",
      "source": [
        "y_hat = model.predict_classes(X_test[:5])\n",
        "print('Predicted Y:',y_hat)"
      ],
      "execution_count": 0,
      "outputs": [
        {
          "output_type": "stream",
          "text": [
            "Predicted Y: [7 2 1 0 4]\n"
          ],
          "name": "stdout"
        }
      ]
    },
    {
      "metadata": {
        "id": "IuOypGSbpiVi",
        "colab_type": "code",
        "outputId": "67ba8b96-cdab-4f70-f1b1-e21acd7065b3",
        "colab": {
          "base_uri": "https://localhost:8080/",
          "height": 35
        }
      },
      "cell_type": "code",
      "source": [
        "y = np.argmax(Y_test[:5], axis = 1)\n",
        "print('True Y:',y)"
      ],
      "execution_count": 0,
      "outputs": [
        {
          "output_type": "stream",
          "text": [
            "True Y: [7 2 1 0 4]\n"
          ],
          "name": "stdout"
        }
      ]
    },
    {
      "metadata": {
        "id": "Y9kLLphtpiWA",
        "colab_type": "text"
      },
      "cell_type": "markdown",
      "source": [
        "### 2.2 Transfer Learning"
      ]
    },
    {
      "metadata": {
        "id": "1fYJx_r9piWJ",
        "colab_type": "code",
        "colab": {}
      },
      "cell_type": "code",
      "source": [
        "from keras.applications import VGG16, InceptionV3, ResNet50, MobileNet\n",
        "import matplotlib.pyplot as plt\n",
        "from keras.preprocessing.image import ImageDataGenerator, array_to_img, img_to_array, load_img\n",
        "from keras.models import Sequential\n",
        "from keras.layers import Dense, Flatten\n",
        "from keras.optimizers import RMSprop"
      ],
      "execution_count": 0,
      "outputs": []
    },
    {
      "metadata": {
        "id": "q5U1kHaoY4lB",
        "colab_type": "text"
      },
      "cell_type": "markdown",
      "source": [
        "In order to use VGG16 backbone, we need to resize our input image into at least $32\\times32$ with 3 channels (RGB color scale)."
      ]
    },
    {
      "metadata": {
        "id": "Bgzgn5ODpiWc",
        "colab_type": "code",
        "colab": {}
      },
      "cell_type": "code",
      "source": [
        "from skimage.transform import resize\n",
        "\n",
        "def resize_batch(X, new_size):\n",
        "    num_images = X.shape[0] # \n",
        "    resized_X = np.zeros(shape=(num_images, new_size, new_size)) # final array\n",
        "    for i in range(num_images):\n",
        "        resized = resize(X[i], (new_size,new_size)) # \n",
        "        resized_X[i,:,:] = resized # \n",
        "    return resized_X"
      ],
      "execution_count": 0,
      "outputs": []
    },
    {
      "metadata": {
        "id": "HXBvG3fIpiWg",
        "colab_type": "code",
        "outputId": "7f4eaf8a-928f-4c12-b929-800c4ce78d82",
        "colab": {
          "base_uri": "https://localhost:8080/",
          "height": 53
        }
      },
      "cell_type": "code",
      "source": [
        "from keras.datasets import mnist\n",
        "import numpy as np\n",
        "from keras.utils import np_utils\n",
        "\n",
        "\n",
        "(X_train, y_train), (X_test, y_test) = mnist.load_data()\n",
        "\n",
        "X_train = resize_batch(X_train, 32)\n",
        "X_test = resize_batch(X_test, 32)\n",
        "\n",
        "X_train = np.stack((X_train,)*3, axis=-1)\n",
        "X_test = np.stack((X_test,)*3, axis=-1)\n",
        "\n",
        "X_train = X_train.astype('float32')\n",
        "X_test = X_test.astype('float32')\n",
        "X_train /= 255\n",
        "X_test /= 255\n",
        "\n",
        "\n",
        "Y_train = np_utils.to_categorical(y_train, 10)\n",
        "Y_test = np_utils.to_categorical(y_test, 10)"
      ],
      "execution_count": 0,
      "outputs": [
        {
          "output_type": "stream",
          "text": [
            "/usr/local/lib/python3.6/dist-packages/skimage/transform/_warps.py:84: UserWarning: The default mode, 'constant', will be changed to 'reflect' in skimage 0.15.\n",
            "  warn(\"The default mode, 'constant', will be changed to 'reflect' in \"\n"
          ],
          "name": "stderr"
        }
      ]
    },
    {
      "metadata": {
        "id": "sFdt6f-ypiWl",
        "colab_type": "code",
        "outputId": "bf1d73b2-772d-4d32-c5a3-bcae376cf9ab",
        "colab": {
          "base_uri": "https://localhost:8080/",
          "height": 35
        }
      },
      "cell_type": "code",
      "source": [
        "X_test[0].shape"
      ],
      "execution_count": 0,
      "outputs": [
        {
          "output_type": "execute_result",
          "data": {
            "text/plain": [
              "(32, 32, 3)"
            ]
          },
          "metadata": {
            "tags": []
          },
          "execution_count": 20
        }
      ]
    },
    {
      "metadata": {
        "id": "e9pXtzyYZ2pP",
        "colab_type": "text"
      },
      "cell_type": "markdown",
      "source": [
        "Code for loading the pre-trained backbone and then adding the last dense layer:"
      ]
    },
    {
      "metadata": {
        "id": "riVR39xLpiW1",
        "colab_type": "code",
        "outputId": "eacca693-2907-4c5e-b9e1-d43319d436c6",
        "colab": {
          "base_uri": "https://localhost:8080/",
          "height": 53
        }
      },
      "cell_type": "code",
      "source": [
        "conv_base = VGG16(weights=\"imagenet\",include_top=False,input_shape=(32,32,3))"
      ],
      "execution_count": 0,
      "outputs": [
        {
          "output_type": "stream",
          "text": [
            "Downloading data from https://github.com/fchollet/deep-learning-models/releases/download/v0.1/vgg16_weights_tf_dim_ordering_tf_kernels_notop.h5\n",
            "58892288/58889256 [==============================] - 6s 0us/step\n"
          ],
          "name": "stdout"
        }
      ]
    },
    {
      "metadata": {
        "id": "U4RDxRXGpiXT",
        "colab_type": "code",
        "colab": {}
      },
      "cell_type": "code",
      "source": [
        "model = Sequential()\n",
        "model.add(conv_base)\n",
        "model.add(Flatten())\n",
        "model.add(Dense(10, activation=\"sigmoid\"))"
      ],
      "execution_count": 0,
      "outputs": []
    },
    {
      "metadata": {
        "id": "EkMl-dD6piXZ",
        "colab_type": "code",
        "outputId": "f0f68ff9-af71-4d5c-adb2-85034ba5e69a",
        "colab": {
          "base_uri": "https://localhost:8080/",
          "height": 251
        }
      },
      "cell_type": "code",
      "source": [
        "model.summary()"
      ],
      "execution_count": 0,
      "outputs": [
        {
          "output_type": "stream",
          "text": [
            "_________________________________________________________________\n",
            "Layer (type)                 Output Shape              Param #   \n",
            "=================================================================\n",
            "vgg16 (Model)                (None, 1, 1, 512)         14714688  \n",
            "_________________________________________________________________\n",
            "flatten_2 (Flatten)          (None, 512)               0         \n",
            "_________________________________________________________________\n",
            "dense_3 (Dense)              (None, 10)                5130      \n",
            "=================================================================\n",
            "Total params: 14,719,818\n",
            "Trainable params: 14,719,818\n",
            "Non-trainable params: 0\n",
            "_________________________________________________________________\n"
          ],
          "name": "stdout"
        }
      ]
    },
    {
      "metadata": {
        "id": "09RQE_EapiXb",
        "colab_type": "code",
        "outputId": "995e5576-82f5-445e-eb8b-dd0406bcb909",
        "colab": {
          "base_uri": "https://localhost:8080/",
          "height": 521
        }
      },
      "cell_type": "code",
      "source": [
        "model.trainable_weights"
      ],
      "execution_count": 0,
      "outputs": [
        {
          "output_type": "execute_result",
          "data": {
            "text/plain": [
              "[<tf.Variable 'block1_conv1/kernel:0' shape=(3, 3, 3, 64) dtype=float32_ref>,\n",
              " <tf.Variable 'block1_conv1/bias:0' shape=(64,) dtype=float32_ref>,\n",
              " <tf.Variable 'block1_conv2/kernel:0' shape=(3, 3, 64, 64) dtype=float32_ref>,\n",
              " <tf.Variable 'block1_conv2/bias:0' shape=(64,) dtype=float32_ref>,\n",
              " <tf.Variable 'block2_conv1/kernel:0' shape=(3, 3, 64, 128) dtype=float32_ref>,\n",
              " <tf.Variable 'block2_conv1/bias:0' shape=(128,) dtype=float32_ref>,\n",
              " <tf.Variable 'block2_conv2/kernel:0' shape=(3, 3, 128, 128) dtype=float32_ref>,\n",
              " <tf.Variable 'block2_conv2/bias:0' shape=(128,) dtype=float32_ref>,\n",
              " <tf.Variable 'block3_conv1/kernel:0' shape=(3, 3, 128, 256) dtype=float32_ref>,\n",
              " <tf.Variable 'block3_conv1/bias:0' shape=(256,) dtype=float32_ref>,\n",
              " <tf.Variable 'block3_conv2/kernel:0' shape=(3, 3, 256, 256) dtype=float32_ref>,\n",
              " <tf.Variable 'block3_conv2/bias:0' shape=(256,) dtype=float32_ref>,\n",
              " <tf.Variable 'block3_conv3/kernel:0' shape=(3, 3, 256, 256) dtype=float32_ref>,\n",
              " <tf.Variable 'block3_conv3/bias:0' shape=(256,) dtype=float32_ref>,\n",
              " <tf.Variable 'block4_conv1/kernel:0' shape=(3, 3, 256, 512) dtype=float32_ref>,\n",
              " <tf.Variable 'block4_conv1/bias:0' shape=(512,) dtype=float32_ref>,\n",
              " <tf.Variable 'block4_conv2/kernel:0' shape=(3, 3, 512, 512) dtype=float32_ref>,\n",
              " <tf.Variable 'block4_conv2/bias:0' shape=(512,) dtype=float32_ref>,\n",
              " <tf.Variable 'block4_conv3/kernel:0' shape=(3, 3, 512, 512) dtype=float32_ref>,\n",
              " <tf.Variable 'block4_conv3/bias:0' shape=(512,) dtype=float32_ref>,\n",
              " <tf.Variable 'block5_conv1/kernel:0' shape=(3, 3, 512, 512) dtype=float32_ref>,\n",
              " <tf.Variable 'block5_conv1/bias:0' shape=(512,) dtype=float32_ref>,\n",
              " <tf.Variable 'block5_conv2/kernel:0' shape=(3, 3, 512, 512) dtype=float32_ref>,\n",
              " <tf.Variable 'block5_conv2/bias:0' shape=(512,) dtype=float32_ref>,\n",
              " <tf.Variable 'block5_conv3/kernel:0' shape=(3, 3, 512, 512) dtype=float32_ref>,\n",
              " <tf.Variable 'block5_conv3/bias:0' shape=(512,) dtype=float32_ref>,\n",
              " <tf.Variable 'dense_3/kernel:0' shape=(512, 10) dtype=float32_ref>,\n",
              " <tf.Variable 'dense_3/bias:0' shape=(10,) dtype=float32_ref>]"
            ]
          },
          "metadata": {
            "tags": []
          },
          "execution_count": 24
        }
      ]
    },
    {
      "metadata": {
        "id": "WPBZ00Y2piXe",
        "colab_type": "code",
        "colab": {}
      },
      "cell_type": "code",
      "source": [
        "conv_base.trainable = False"
      ],
      "execution_count": 0,
      "outputs": []
    },
    {
      "metadata": {
        "id": "wx31g_g_piXi",
        "colab_type": "code",
        "outputId": "074dd355-4ab7-4435-a387-7a51006d4540",
        "colab": {
          "base_uri": "https://localhost:8080/",
          "height": 53
        }
      },
      "cell_type": "code",
      "source": [
        "model.trainable_weights"
      ],
      "execution_count": 0,
      "outputs": [
        {
          "output_type": "execute_result",
          "data": {
            "text/plain": [
              "[<tf.Variable 'dense_3/kernel:0' shape=(512, 10) dtype=float32_ref>,\n",
              " <tf.Variable 'dense_3/bias:0' shape=(10,) dtype=float32_ref>]"
            ]
          },
          "metadata": {
            "tags": []
          },
          "execution_count": 26
        }
      ]
    },
    {
      "metadata": {
        "id": "0p2x1FRypiXk",
        "colab_type": "code",
        "colab": {}
      },
      "cell_type": "code",
      "source": [
        "model.compile(optimizer='Adam',loss=\"binary_crossentropy\",metrics=[\"accuracy\"])"
      ],
      "execution_count": 0,
      "outputs": []
    },
    {
      "metadata": {
        "id": "TB5hMZxepiXn",
        "colab_type": "text"
      },
      "cell_type": "markdown",
      "source": [
        "Since I found out that the accuarcy will not increase much while the number of epoch increases later. Thus, I just use 5 as the number of epochs. Here is the code for training our model:"
      ]
    },
    {
      "metadata": {
        "id": "k_WBg0dYpiXo",
        "colab_type": "code",
        "outputId": "5c1da270-880b-4005-fd59-fe940aafd8c7",
        "colab": {
          "base_uri": "https://localhost:8080/",
          "height": 215
        }
      },
      "cell_type": "code",
      "source": [
        "batch_size = 128\n",
        "num_epoch = 5\n",
        "\n",
        "#model training\n",
        "model_training = model.fit(X_train, Y_train,\n",
        "                           epochs=num_epoch, \n",
        "                           batch_size = batch_size,\n",
        "                           validation_data=(X_test, Y_test))"
      ],
      "execution_count": 0,
      "outputs": [
        {
          "output_type": "stream",
          "text": [
            "Train on 60000 samples, validate on 10000 samples\n",
            "Epoch 1/5\n",
            "60000/60000 [==============================] - 23s 391us/step - loss: 0.3359 - acc: 0.8941 - val_loss: 0.3249 - val_acc: 0.9000\n",
            "Epoch 2/5\n",
            "60000/60000 [==============================] - 22s 363us/step - loss: 0.3249 - acc: 0.9000 - val_loss: 0.3246 - val_acc: 0.9000\n",
            "Epoch 3/5\n",
            "60000/60000 [==============================] - 22s 366us/step - loss: 0.3246 - acc: 0.9000 - val_loss: 0.3243 - val_acc: 0.9000\n",
            "Epoch 4/5\n",
            "60000/60000 [==============================] - 23s 391us/step - loss: 0.3243 - acc: 0.9000 - val_loss: 0.3240 - val_acc: 0.9000\n",
            "Epoch 5/5\n",
            "60000/60000 [==============================] - 23s 388us/step - loss: 0.3241 - acc: 0.9000 - val_loss: 0.3236 - val_acc: 0.9000\n"
          ],
          "name": "stdout"
        }
      ]
    },
    {
      "metadata": {
        "id": "SXGvaJEApiXr",
        "colab_type": "code",
        "outputId": "0ba7f4d7-fa7a-4e29-9caa-1a5adb9cd762",
        "colab": {
          "base_uri": "https://localhost:8080/",
          "height": 53
        }
      },
      "cell_type": "code",
      "source": [
        "score = model.evaluate(X_test, Y_test, verbose=0)\n",
        "print('Test loss:', score[0])\n",
        "print('Test accuracy:', score[1])"
      ],
      "execution_count": 0,
      "outputs": [
        {
          "output_type": "stream",
          "text": [
            "Test loss: 0.3235890708446503\n",
            "Test accuracy: 0.8999999761581421\n"
          ],
          "name": "stdout"
        }
      ]
    },
    {
      "metadata": {
        "id": "0pBg2OJRpiYA",
        "colab_type": "text"
      },
      "cell_type": "markdown",
      "source": [
        "## 3 Text Classification\n",
        "\n",
        "### 3.1 RNN"
      ]
    },
    {
      "metadata": {
        "id": "QPmmsQqLpiYB",
        "colab_type": "code",
        "outputId": "067e9296-de64-4ab1-b9eb-0fb2af9d894e",
        "colab": {
          "base_uri": "https://localhost:8080/",
          "height": 35
        }
      },
      "cell_type": "code",
      "source": [
        "import pandas as pd\n",
        "import numpy as np\n",
        "import matplotlib.pyplot as plt\n",
        "import seaborn as sns\n",
        "from sklearn.model_selection import train_test_split\n",
        "from sklearn.preprocessing import LabelEncoder\n",
        "from keras.models import Model, Sequential\n",
        "from keras.layers import LSTM, Activation, Dense, Dropout, Input, Embedding\n",
        "from keras.optimizers import RMSprop\n",
        "from keras.preprocessing.text import Tokenizer\n",
        "from keras.preprocessing import sequence\n",
        "from keras.utils import to_categorical\n",
        "from keras.callbacks import EarlyStopping\n",
        "%matplotlib inline"
      ],
      "execution_count": 0,
      "outputs": [
        {
          "output_type": "stream",
          "text": [
            "Using TensorFlow backend.\n"
          ],
          "name": "stderr"
        }
      ]
    },
    {
      "metadata": {
        "id": "sMRu6vprvVJl",
        "colab_type": "code",
        "outputId": "9780e6fc-9d92-4b47-f3d0-4b47694c2886",
        "colab": {
          "base_uri": "https://localhost:8080/",
          "height": 127
        }
      },
      "cell_type": "code",
      "source": [
        "from google.colab import drive\n",
        "drive.mount('/content/drive')"
      ],
      "execution_count": 0,
      "outputs": [
        {
          "output_type": "stream",
          "text": [
            "Go to this URL in a browser: https://accounts.google.com/o/oauth2/auth?client_id=947318989803-6bn6qk8qdgf4n4g3pfee6491hc0brc4i.apps.googleusercontent.com&redirect_uri=urn%3Aietf%3Awg%3Aoauth%3A2.0%3Aoob&scope=email%20https%3A%2F%2Fwww.googleapis.com%2Fauth%2Fdocs.test%20https%3A%2F%2Fwww.googleapis.com%2Fauth%2Fdrive%20https%3A%2F%2Fwww.googleapis.com%2Fauth%2Fdrive.photos.readonly%20https%3A%2F%2Fwww.googleapis.com%2Fauth%2Fpeopleapi.readonly&response_type=code\n",
            "\n",
            "Enter your authorization code:\n",
            "··········\n",
            "Mounted at /content/drive\n"
          ],
          "name": "stdout"
        }
      ]
    },
    {
      "metadata": {
        "id": "6x4Ez_r0a0i5",
        "colab_type": "text"
      },
      "cell_type": "markdown",
      "source": [
        "Code for loading in our urls dataset:"
      ]
    },
    {
      "metadata": {
        "id": "eR7ogDk4piYF",
        "colab_type": "code",
        "outputId": "3d78a928-39fe-4b3f-8abc-6b36a4ca1c47",
        "colab": {
          "base_uri": "https://localhost:8080/",
          "height": 127
        }
      },
      "cell_type": "code",
      "source": [
        "benign_text = []\n",
        "with open('/content/drive/My Drive/Colab Notebooks/benign-urls.txt') as f:\n",
        "    for line in f:\n",
        "        if line[0] != '#':\n",
        "            benign_text.append(line.strip())\n",
        "\n",
        "benign_n = len(benign_text)\n",
        "print(benign_n)\n",
        "print(benign_text[:10])\n",
        "\n",
        "\n",
        "print()\n",
        "\n",
        "malicious_text = []\n",
        "with open('/content/drive/My Drive/Colab Notebooks/malicious-urls.txt') as f:\n",
        "    for line in f:\n",
        "        if line[0] != '#':\n",
        "            malicious_text.append(line.strip())\n",
        "            \n",
        "malicious_n = len(malicious_text)\n",
        "print(malicious_n)\n",
        "print(malicious_text[:10])\n",
        "\n",
        "X = benign_text + malicious_text\n",
        "Y = [0]*benign_n + [1]*malicious_n"
      ],
      "execution_count": 0,
      "outputs": [
        {
          "output_type": "stream",
          "text": [
            "66015\n",
            "['.0.blogger.gmodules.com', '.0.client-channel.google.com', '.0.docs.google.com', '.0.drive.google.com', '.0.gvt0.cn', '.0.gvt0.com', '.10.client-channel.google.com', '.10.docs.google.com', '.10.drive.google.com', '.11.client-channel.google.com']\n",
            "\n",
            "1296\n",
            "['.1337x.pl', '.1link.io', '.1n.pm', '.22apple.com', '.22find.com', '.2s5m19yk.ru', '.301.li', '.3utilities.com', '.44d.info', '.4everproxy.co']\n"
          ],
          "name": "stdout"
        }
      ]
    },
    {
      "metadata": {
        "id": "BfuMgoXwpiYJ",
        "colab_type": "code",
        "outputId": "40340770-8912-4228-ee7d-84673d6e3c93",
        "colab": {
          "base_uri": "https://localhost:8080/",
          "height": 35
        }
      },
      "cell_type": "code",
      "source": [
        "from string import printable\n",
        "\n",
        "X_token = [[printable.index(x) + 1 for x in url if x in printable] for url in X]\n",
        "\n",
        "max_len = 100\n",
        "X = sequence.pad_sequences(X_token, maxlen=max_len)\n",
        "\n",
        "Y = np.array(Y)\n",
        "\n",
        "print('Matrix dimensions of X: ', X.shape, 'Vector dimension of target: ', Y.shape)"
      ],
      "execution_count": 0,
      "outputs": [
        {
          "output_type": "stream",
          "text": [
            "Matrix dimensions of X:  (67311, 100) Vector dimension of target:  (67311,)\n"
          ],
          "name": "stdout"
        }
      ]
    },
    {
      "metadata": {
        "id": "iXw1cA9Xk3eE",
        "colab_type": "text"
      },
      "cell_type": "markdown",
      "source": [
        "Split data into train and test set:"
      ]
    },
    {
      "metadata": {
        "id": "4ZalNOjVpiYM",
        "colab_type": "code",
        "colab": {}
      },
      "cell_type": "code",
      "source": [
        "X_train,X_test,Y_train,Y_test = train_test_split(X,Y,test_size=0.2)"
      ],
      "execution_count": 0,
      "outputs": []
    },
    {
      "metadata": {
        "id": "tm49F5XWlAUB",
        "colab_type": "text"
      },
      "cell_type": "markdown",
      "source": [
        "Code for building a RNN mode:"
      ]
    },
    {
      "metadata": {
        "id": "sm1hs8THpiYW",
        "colab_type": "code",
        "colab": {}
      },
      "cell_type": "code",
      "source": [
        "max_len = 100\n",
        "max_words = 1000\n",
        "\n",
        "model = Sequential()\n",
        "model.add(Embedding(max_words, 50, input_length=max_len))\n",
        "model.add(Dropout(0.2))\n",
        "model.add(LSTM(100))\n",
        "model.add(Dropout(0.2))\n",
        "model.add(Dense(1, activation='sigmoid'))"
      ],
      "execution_count": 0,
      "outputs": []
    },
    {
      "metadata": {
        "id": "suZuDD5ApiYY",
        "colab_type": "code",
        "outputId": "31cd8263-41fc-4433-db79-66b097192d20",
        "colab": {
          "base_uri": "https://localhost:8080/",
          "height": 323
        }
      },
      "cell_type": "code",
      "source": [
        "model.summary()"
      ],
      "execution_count": 0,
      "outputs": [
        {
          "output_type": "stream",
          "text": [
            "_________________________________________________________________\n",
            "Layer (type)                 Output Shape              Param #   \n",
            "=================================================================\n",
            "embedding_1 (Embedding)      (None, 100, 50)           50000     \n",
            "_________________________________________________________________\n",
            "dropout_1 (Dropout)          (None, 100, 50)           0         \n",
            "_________________________________________________________________\n",
            "lstm_1 (LSTM)                (None, 100)               60400     \n",
            "_________________________________________________________________\n",
            "dropout_2 (Dropout)          (None, 100)               0         \n",
            "_________________________________________________________________\n",
            "dense_1 (Dense)              (None, 1)                 101       \n",
            "=================================================================\n",
            "Total params: 110,501\n",
            "Trainable params: 110,501\n",
            "Non-trainable params: 0\n",
            "_________________________________________________________________\n"
          ],
          "name": "stdout"
        }
      ]
    },
    {
      "metadata": {
        "id": "qC0NWjrtgtzb",
        "colab_type": "code",
        "outputId": "9073dc71-0967-4ae6-d1a9-f389f5bead22",
        "colab": {
          "base_uri": "https://localhost:8080/",
          "height": 253
        }
      },
      "cell_type": "code",
      "source": [
        "!pip install keras_metrics"
      ],
      "execution_count": 0,
      "outputs": [
        {
          "output_type": "stream",
          "text": [
            "Collecting keras_metrics\n",
            "  Downloading https://files.pythonhosted.org/packages/01/07/ec2bde74ed865b56cbeb44fc1cf414d17cc828ac68e4998a8106717d282b/keras_metrics-0.0.5-py2.py3-none-any.whl\n",
            "Requirement already satisfied: Keras>=2.1.5 in /usr/local/lib/python3.6/dist-packages (from keras_metrics) (2.2.4)\n",
            "Requirement already satisfied: numpy>=1.9.1 in /usr/local/lib/python3.6/dist-packages (from Keras>=2.1.5->keras_metrics) (1.14.6)\n",
            "Requirement already satisfied: scipy>=0.14 in /usr/local/lib/python3.6/dist-packages (from Keras>=2.1.5->keras_metrics) (1.1.0)\n",
            "Requirement already satisfied: keras-applications>=1.0.6 in /usr/local/lib/python3.6/dist-packages (from Keras>=2.1.5->keras_metrics) (1.0.6)\n",
            "Requirement already satisfied: keras-preprocessing>=1.0.5 in /usr/local/lib/python3.6/dist-packages (from Keras>=2.1.5->keras_metrics) (1.0.5)\n",
            "Requirement already satisfied: six>=1.9.0 in /usr/local/lib/python3.6/dist-packages (from Keras>=2.1.5->keras_metrics) (1.11.0)\n",
            "Requirement already satisfied: pyyaml in /usr/local/lib/python3.6/dist-packages (from Keras>=2.1.5->keras_metrics) (3.13)\n",
            "Requirement already satisfied: h5py in /usr/local/lib/python3.6/dist-packages (from Keras>=2.1.5->keras_metrics) (2.8.0)\n",
            "Installing collected packages: keras-metrics\n",
            "Successfully installed keras-metrics-0.0.5\n"
          ],
          "name": "stdout"
        }
      ]
    },
    {
      "metadata": {
        "id": "Ed64rz8ipiYb",
        "colab_type": "code",
        "colab": {}
      },
      "cell_type": "code",
      "source": [
        "import keras_metrics\n",
        "\n",
        "#model.compile(loss=\"binary_crossentropy\", optimizer='rmsprop', metrics=[keras_metrics.precision(), keras_metrics.recall()])\n",
        "model.compile(loss='binary_crossentropy', optimizer='adam', metrics=['accuracy'])"
      ],
      "execution_count": 0,
      "outputs": []
    },
    {
      "metadata": {
        "id": "_XJGRdo3lGzR",
        "colab_type": "text"
      },
      "cell_type": "markdown",
      "source": [
        "Code for training my RNN mode:"
      ]
    },
    {
      "metadata": {
        "id": "I-SvKEIKpiYv",
        "colab_type": "code",
        "outputId": "f3b0cc08-498b-4801-dc31-77c052d8c876",
        "colab": {
          "base_uri": "https://localhost:8080/",
          "height": 215
        }
      },
      "cell_type": "code",
      "source": [
        "model.fit(X_train, Y_train, epochs=5, batch_size=256)"
      ],
      "execution_count": 0,
      "outputs": [
        {
          "output_type": "stream",
          "text": [
            "Epoch 1/5\n",
            "53848/53848 [==============================] - 107s 2ms/step - loss: 0.0457 - acc: 0.9817\n",
            "Epoch 2/5\n",
            "53848/53848 [==============================] - 105s 2ms/step - loss: 0.0277 - acc: 0.9869\n",
            "Epoch 3/5\n",
            "53848/53848 [==============================] - 106s 2ms/step - loss: 0.0249 - acc: 0.9884\n",
            "Epoch 4/5\n",
            "53848/53848 [==============================] - 105s 2ms/step - loss: 0.0247 - acc: 0.9879\n",
            "Epoch 5/5\n",
            "53848/53848 [==============================] - 105s 2ms/step - loss: 0.0245 - acc: 0.9883\n"
          ],
          "name": "stdout"
        },
        {
          "output_type": "execute_result",
          "data": {
            "text/plain": [
              "<keras.callbacks.History at 0x7f7f7432cb38>"
            ]
          },
          "metadata": {
            "tags": []
          },
          "execution_count": 16
        }
      ]
    },
    {
      "metadata": {
        "id": "ZAKru9SFxQZY",
        "colab_type": "code",
        "outputId": "625cc8a8-0222-4873-9ea2-e489e00d2b06",
        "colab": {
          "base_uri": "https://localhost:8080/",
          "height": 325
        }
      },
      "cell_type": "code",
      "source": [
        "!pip install pandas_ml"
      ],
      "execution_count": 0,
      "outputs": [
        {
          "output_type": "stream",
          "text": [
            "Collecting pandas_ml\n",
            "\u001b[?25l  Downloading https://files.pythonhosted.org/packages/c1/28/19289aabaecac9bd7ea34c43310fa16bbdda818e1f635747e81b376526ca/pandas_ml-0.5.0.tar.gz (76kB)\n",
            "\r\u001b[K    13% |████▎                           | 10kB 16.1MB/s eta 0:00:01\r\u001b[K    26% |████████▌                       | 20kB 2.0MB/s eta 0:00:01\r\u001b[K    39% |████████████▉                   | 30kB 2.3MB/s eta 0:00:01\r\u001b[K    53% |█████████████████               | 40kB 2.1MB/s eta 0:00:01\r\u001b[K    66% |█████████████████████▎          | 51kB 2.3MB/s eta 0:00:01\r\u001b[K    79% |█████████████████████████▋      | 61kB 2.7MB/s eta 0:00:01\r\u001b[K    93% |█████████████████████████████▉  | 71kB 2.9MB/s eta 0:00:01\r\u001b[K    100% |████████████████████████████████| 81kB 3.1MB/s \n",
            "\u001b[?25hRequirement already satisfied: pandas>=0.17.0 in /usr/local/lib/python3.6/dist-packages (from pandas_ml) (0.22.0)\n",
            "Collecting enum34 (from pandas_ml)\n",
            "  Downloading https://files.pythonhosted.org/packages/af/42/cb9355df32c69b553e72a2e28daee25d1611d2c0d9c272aa1d34204205b2/enum34-1.1.6-py3-none-any.whl\n",
            "Requirement already satisfied: python-dateutil>=2 in /usr/local/lib/python3.6/dist-packages (from pandas>=0.17.0->pandas_ml) (2.5.3)\n",
            "Requirement already satisfied: pytz>=2011k in /usr/local/lib/python3.6/dist-packages (from pandas>=0.17.0->pandas_ml) (2018.7)\n",
            "Requirement already satisfied: numpy>=1.9.0 in /usr/local/lib/python3.6/dist-packages (from pandas>=0.17.0->pandas_ml) (1.14.6)\n",
            "Requirement already satisfied: six>=1.5 in /usr/local/lib/python3.6/dist-packages (from python-dateutil>=2->pandas>=0.17.0->pandas_ml) (1.11.0)\n",
            "Building wheels for collected packages: pandas-ml\n",
            "  Running setup.py bdist_wheel for pandas-ml ... \u001b[?25l-\b \b\\\b \bdone\n",
            "\u001b[?25h  Stored in directory: /root/.cache/pip/wheels/4b/b0/88/51fb7203a0f81becae3e92d5bf9fee0460375e5408e67a7dc3\n",
            "Successfully built pandas-ml\n",
            "Installing collected packages: enum34, pandas-ml\n",
            "Successfully installed enum34-1.1.6 pandas-ml-0.5.0\n"
          ],
          "name": "stdout"
        }
      ]
    },
    {
      "metadata": {
        "id": "H_4VpsQglU5w",
        "colab_type": "text"
      },
      "cell_type": "markdown",
      "source": [
        "Here we can look at the confusion matrix:"
      ]
    },
    {
      "metadata": {
        "id": "H7_FvY51piY3",
        "colab_type": "code",
        "outputId": "07d46ec6-95f3-4dea-ca03-0bb9a5f2f34d",
        "colab": {
          "base_uri": "https://localhost:8080/",
          "height": 107
        }
      },
      "cell_type": "code",
      "source": [
        "from pandas_ml import ConfusionMatrix\n",
        "import matplotlib.pyplot as plt\n",
        "\n",
        "y_hat = model.predict_classes(X_test)\n",
        "cm = ConfusionMatrix(Y_test, y_hat[:,0])\n",
        "cm"
      ],
      "execution_count": 0,
      "outputs": [
        {
          "output_type": "execute_result",
          "data": {
            "text/plain": [
              "Predicted  False  True  __all__\n",
              "Actual                         \n",
              "False      13075   143    13218\n",
              "True          21   224      245\n",
              "__all__    13096   367    13463"
            ]
          },
          "metadata": {
            "tags": []
          },
          "execution_count": 18
        }
      ]
    },
    {
      "metadata": {
        "id": "LQm9OSmkpiY5",
        "colab_type": "code",
        "outputId": "4fa61371-4c5c-4350-d495-9c4d572ba2cc",
        "colab": {
          "base_uri": "https://localhost:8080/",
          "height": 495
        }
      },
      "cell_type": "code",
      "source": [
        "cm.plot()\n",
        "plt.show()"
      ],
      "execution_count": 0,
      "outputs": [
        {
          "output_type": "display_data",
          "data": {
            "image/png": "[encoded data removed]",
            "text/plain": [
              "<matplotlib.figure.Figure at 0x7f7f7358c0f0>"
            ]
          },
          "metadata": {
            "tags": []
          }
        }
      ]
    },
    {
      "metadata": {
        "id": "2kUrXdV3mMKH",
        "colab_type": "text"
      },
      "cell_type": "markdown",
      "source": [
        "Here we can look at the ROC curve and AUC score for my RNN model:"
      ]
    },
    {
      "metadata": {
        "id": "Ico3_9DwpiY-",
        "colab_type": "code",
        "colab": {}
      },
      "cell_type": "code",
      "source": [
        "from sklearn.metrics import roc_curve\n",
        "from sklearn import metrics\n",
        "y_pred_rf = model.predict_proba(X_test)[:, 0]\n",
        "fpr_rf, tpr_rf, _ = roc_curve(Y_test, y_pred_rf)"
      ],
      "execution_count": 0,
      "outputs": []
    },
    {
      "metadata": {
        "id": "BiEZLJ_OpiZA",
        "colab_type": "code",
        "outputId": "ed68974e-9e44-4bef-a0cc-b180ad777c8b",
        "colab": {
          "base_uri": "https://localhost:8080/",
          "height": 294
        }
      },
      "cell_type": "code",
      "source": [
        "plt.figure(1)\n",
        "plt.plot([0, 1], [0, 1], 'k--')\n",
        "plt.plot(fpr_rf, tpr_rf, label='RNN')\n",
        "plt.xlabel('False positive rate')\n",
        "plt.ylabel('True positive rate')\n",
        "plt.title('ROC curve - RNN model')\n",
        "plt.legend(loc='best')\n",
        "plt.show()"
      ],
      "execution_count": 0,
      "outputs": [
        {
          "output_type": "display_data",
          "data": {
            "image/png": "[encoded data removed]",
            "text/plain": [
              "<matplotlib.figure.Figure at 0x7f7f6e7abcc0>"
            ]
          },
          "metadata": {
            "tags": []
          }
        }
      ]
    },
    {
      "metadata": {
        "id": "ChAWRhejpiZE",
        "colab_type": "code",
        "outputId": "d10c3a40-f772-4d23-b551-6bba74e03048",
        "colab": {
          "base_uri": "https://localhost:8080/",
          "height": 35
        }
      },
      "cell_type": "code",
      "source": [
        "metrics.auc(fpr_rf,tpr_rf)"
      ],
      "execution_count": 0,
      "outputs": [
        {
          "output_type": "execute_result",
          "data": {
            "text/plain": [
              "0.9954381934344323"
            ]
          },
          "metadata": {
            "tags": []
          },
          "execution_count": 22
        }
      ]
    },
    {
      "metadata": {
        "id": "6RUrRGKTpiZM",
        "colab_type": "text"
      },
      "cell_type": "markdown",
      "source": [
        "### 3.2 CNN"
      ]
    },
    {
      "metadata": {
        "id": "FK9X3ib7piZP",
        "colab_type": "code",
        "colab": {}
      },
      "cell_type": "code",
      "source": [
        "from keras.layers.core import Dense, Dropout, Activation, Lambda, Flatten\n",
        "from keras.layers import  Conv1D, MaxPooling1D\n",
        "\n",
        "#X_train,X_test,Y_train,Y_test"
      ],
      "execution_count": 0,
      "outputs": []
    },
    {
      "metadata": {
        "id": "1cKrkILypiZn",
        "colab_type": "code",
        "colab": {}
      },
      "cell_type": "code",
      "source": [
        "from keras.models import Sequential\n",
        "\n",
        "model_CNN = Sequential()\n",
        "model_CNN.add(Embedding(max_words, 50, input_length=max_len))\n",
        "model_CNN.add(Dropout(0.25))\n",
        "model_CNN.add(Conv1D(filters = 64,kernel_size=5, activation='relu'))\n",
        "model_CNN.add(MaxPooling1D(pool_size=5))\n",
        "model_CNN.add(Flatten())\n",
        "model_CNN.add(Dense(10, activation='relu'))\n",
        "model_CNN.add(Dropout(0.25))\n",
        "model_CNN.add(Dense(1, activation='sigmoid'))"
      ],
      "execution_count": 0,
      "outputs": []
    },
    {
      "metadata": {
        "id": "lu1jcw9_piZp",
        "colab_type": "code",
        "outputId": "4b6be45d-25b9-4358-da26-baff000fb380",
        "colab": {
          "base_uri": "https://localhost:8080/",
          "height": 431
        }
      },
      "cell_type": "code",
      "source": [
        "model_CNN.summary()"
      ],
      "execution_count": 0,
      "outputs": [
        {
          "output_type": "stream",
          "text": [
            "_________________________________________________________________\n",
            "Layer (type)                 Output Shape              Param #   \n",
            "=================================================================\n",
            "embedding_4 (Embedding)      (None, 100, 50)           50000     \n",
            "_________________________________________________________________\n",
            "dropout_7 (Dropout)          (None, 100, 50)           0         \n",
            "_________________________________________________________________\n",
            "conv1d_3 (Conv1D)            (None, 96, 64)            16064     \n",
            "_________________________________________________________________\n",
            "max_pooling1d_3 (MaxPooling1 (None, 19, 64)            0         \n",
            "_________________________________________________________________\n",
            "flatten_3 (Flatten)          (None, 1216)              0         \n",
            "_________________________________________________________________\n",
            "dense_6 (Dense)              (None, 10)                12170     \n",
            "_________________________________________________________________\n",
            "dropout_8 (Dropout)          (None, 10)                0         \n",
            "_________________________________________________________________\n",
            "dense_7 (Dense)              (None, 1)                 11        \n",
            "=================================================================\n",
            "Total params: 78,245\n",
            "Trainable params: 78,245\n",
            "Non-trainable params: 0\n",
            "_________________________________________________________________\n"
          ],
          "name": "stdout"
        }
      ]
    },
    {
      "metadata": {
        "id": "UvPSSbJRqJl8",
        "colab_type": "code",
        "outputId": "2406410d-c890-44ea-cd69-de3f0a1d82ff",
        "colab": {
          "base_uri": "https://localhost:8080/",
          "height": 143
        }
      },
      "cell_type": "code",
      "source": [
        "model_CNN.compile(loss='binary_crossentropy', optimizer='rmsprop', metrics=['accuracy'])\n",
        "model_CNN.fit(X_train, Y_train, epochs=3, batch_size=512)"
      ],
      "execution_count": 0,
      "outputs": [
        {
          "output_type": "stream",
          "text": [
            "Epoch 1/3\n",
            "53848/53848 [==============================] - 24s 440us/step - loss: 0.0360 - acc: 0.9805\n",
            "Epoch 2/3\n",
            "53848/53848 [==============================] - 22s 415us/step - loss: 0.0347 - acc: 0.9805\n",
            "Epoch 3/3\n",
            "53848/53848 [==============================] - 22s 416us/step - loss: 0.0347 - acc: 0.9807\n"
          ],
          "name": "stdout"
        },
        {
          "output_type": "execute_result",
          "data": {
            "text/plain": [
              "<keras.callbacks.History at 0x7f7f6ba42f98>"
            ]
          },
          "metadata": {
            "tags": []
          },
          "execution_count": 52
        }
      ]
    },
    {
      "metadata": {
        "id": "RGharw5Wr_Mc",
        "colab_type": "text"
      },
      "cell_type": "markdown",
      "source": [
        "Note: If I use more batchs, I usually get a model to simply classify all test urls into benign class, and the accuracy is still high. So I complie my CNN model again with precision and recall as new metrics:\n"
      ]
    },
    {
      "metadata": {
        "id": "LP3drlMVpiZs",
        "colab_type": "code",
        "outputId": "d5195e80-5f9a-4072-b262-898ba0cba19f",
        "colab": {
          "base_uri": "https://localhost:8080/",
          "height": 215
        }
      },
      "cell_type": "code",
      "source": [
        "import keras_metrics\n",
        "\n",
        "model_CNN.compile(loss=\"binary_crossentropy\", optimizer='rmsprop', metrics=[keras_metrics.precision(), keras_metrics.recall()])\n",
        "model_CNN.fit(X_train, Y_train, epochs=5, batch_size=512)"
      ],
      "execution_count": 0,
      "outputs": [
        {
          "output_type": "stream",
          "text": [
            "Epoch 1/5\n",
            "53848/53848 [==============================] - 22s 414us/step - loss: 0.0324 - precision: 0.6318 - recall: 0.6204\n",
            "Epoch 2/5\n",
            "53848/53848 [==============================] - 22s 416us/step - loss: 0.0305 - precision: 0.6547 - recall: 0.7088\n",
            "Epoch 3/5\n",
            "53848/53848 [==============================] - 22s 414us/step - loss: 0.0297 - precision: 0.6535 - recall: 0.6603\n",
            "Epoch 4/5\n",
            "53848/53848 [==============================] - 22s 417us/step - loss: 0.0288 - precision: 0.6847 - recall: 0.6613\n",
            "Epoch 5/5\n",
            "53848/53848 [==============================] - 23s 424us/step - loss: 0.0254 - precision: 0.6940 - recall: 0.6775\n"
          ],
          "name": "stdout"
        },
        {
          "output_type": "execute_result",
          "data": {
            "text/plain": [
              "<keras.callbacks.History at 0x7f7f6b9d0080>"
            ]
          },
          "metadata": {
            "tags": []
          },
          "execution_count": 53
        }
      ]
    },
    {
      "metadata": {
        "id": "cMaKvd9wmdPI",
        "colab_type": "text"
      },
      "cell_type": "markdown",
      "source": [
        "Here we can look at the confusion matrix:"
      ]
    },
    {
      "metadata": {
        "id": "c1e4TDGWdOr9",
        "colab_type": "code",
        "outputId": "13c68a48-7705-4fd0-fb67-fdd0e55e71a5",
        "colab": {
          "base_uri": "https://localhost:8080/",
          "height": 107
        }
      },
      "cell_type": "code",
      "source": [
        "from pandas_ml import ConfusionMatrix\n",
        "y_hat = model_CNN.predict_classes(X_test)\n",
        "\n",
        "cm = ConfusionMatrix(Y_test, y_hat[:,0])\n",
        "cm"
      ],
      "execution_count": 0,
      "outputs": [
        {
          "output_type": "execute_result",
          "data": {
            "text/plain": [
              "Predicted  False  True  __all__\n",
              "Actual                         \n",
              "False      13152    66    13218\n",
              "True          82   163      245\n",
              "__all__    13234   229    13463"
            ]
          },
          "metadata": {
            "tags": []
          },
          "execution_count": 54
        }
      ]
    },
    {
      "metadata": {
        "id": "lFXt01DwmXuB",
        "colab_type": "text"
      },
      "cell_type": "markdown",
      "source": [
        "Here we can look at the ROC curve and AUC score for my CNN model:"
      ]
    },
    {
      "metadata": {
        "id": "ZRHa3wQDwybJ",
        "colab_type": "code",
        "outputId": "c06ee98b-01b7-438f-de42-261a588a0350",
        "colab": {
          "base_uri": "https://localhost:8080/",
          "height": 294
        }
      },
      "cell_type": "code",
      "source": [
        "from sklearn.metrics import roc_curve\n",
        "from sklearn import metrics\n",
        "\n",
        "y_pred_rf = model_CNN.predict_proba(X_test)[:, 0]\n",
        "fpr_rf, tpr_rf, _ = roc_curve(Y_test, y_pred_rf)\n",
        "\n",
        "plt.figure(1)\n",
        "plt.plot([0, 1], [0, 1], 'k--')\n",
        "plt.plot(fpr_rf, tpr_rf, label='1D CNN')\n",
        "plt.xlabel('False positive rate')\n",
        "plt.ylabel('True positive rate')\n",
        "plt.title('ROC curve - 1D CNN model')\n",
        "plt.legend(loc='best')\n",
        "plt.show()"
      ],
      "execution_count": 0,
      "outputs": [
        {
          "output_type": "display_data",
          "data": {
            "image/png": "[encoded data removed]",
            "text/plain": [
              "<matplotlib.figure.Figure at 0x7f7f6ba428d0>"
            ]
          },
          "metadata": {
            "tags": []
          }
        }
      ]
    },
    {
      "metadata": {
        "id": "e8eUreUyw2T-",
        "colab_type": "code",
        "outputId": "6e2dde20-f117-4edd-e2e3-950fe0070aaa",
        "colab": {
          "base_uri": "https://localhost:8080/",
          "height": 35
        }
      },
      "cell_type": "code",
      "source": [
        "metrics.auc(fpr_rf,tpr_rf)"
      ],
      "execution_count": 0,
      "outputs": [
        {
          "output_type": "execute_result",
          "data": {
            "text/plain": [
              "0.996380940029212"
            ]
          },
          "metadata": {
            "tags": []
          },
          "execution_count": 56
        }
      ]
    },
    {
      "metadata": {
        "id": "HVtlAI8Scly6",
        "colab_type": "text"
      },
      "cell_type": "markdown",
      "source": [
        "### 3.3\n",
        "\n",
        "From above two ROC curves, we can barely tell which model performs better. However, the AUC score of CNN is slightly higher than the AUC score of RNN. Therefore, for this task with this data, my CNN model performs slightly better. In addition, training my CNN is much faster than training my RNN.  "
      ]
    }
  ]
}