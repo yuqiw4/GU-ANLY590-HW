{
 "cells": [
  {
   "cell_type": "markdown",
   "metadata": {},
   "source": [
    "\n",
    "# Assignment 0\n",
    "\n",
    "## Regularization 1.1\n",
    "\n",
    "Using the accompanying Hitters dataset (found here (Links to an external site.)Links to an external site.), we will explore regression models to predict a player's Salary from other variables. You can use any programming languages or frameworks that you wish.\n",
    "\n",
    "1.1 Use LASSO regression to predict Salary from the other numeric predictors (you should omit the categorical predictors).\n",
    "\n",
    "1.1.1. Create a visualization of the coefficient trajectories\n",
    "\n",
    "1.1.2. Comment on which are the final three predictors that remain in the model\n",
    "\n",
    "1.1.3. Use cross-validation to find the optimal value of the regularization penalty\n",
    "\n",
    "1.1.4. How many predictors are left in that model?\n",
    "\n"
   ]
  },
  {
   "cell_type": "markdown",
   "metadata": {},
   "source": [
    "### 1.1 Use LASSO regression to predict Salary from the other numeric predictors (you should omit the categorical predictors)."
   ]
  },
  {
   "cell_type": "code",
   "execution_count": 1,
   "metadata": {},
   "outputs": [
    {
     "name": "stdout",
     "output_type": "stream",
     "text": [
      "mse: 108955.42067407088\n"
     ]
    },
    {
     "data": {
      "text/plain": [
       "0.4625702841142737"
      ]
     },
     "execution_count": 1,
     "metadata": {},
     "output_type": "execute_result"
    }
   ],
   "source": [
    "\n",
    "import pandas as pd\n",
    "import numpy as np\n",
    "from sklearn.linear_model import *\n",
    "\n",
    "\n",
    "# read in data\n",
    "hitters_df = pd.read_csv(\"Hitters.csv\", index_col = 0)\n",
    "#hitters_df[0:5]\n",
    "# drop categorical variables\n",
    "df = hitters_df.dropna().drop(['League','Division','NewLeague'], axis=1)\n",
    "#df[0:5]\n",
    "# get X and Y\n",
    "X = df.drop(['Salary'], axis=1)\n",
    "Y = df['Salary']\n",
    "\n",
    "lasso_reg = Lasso(normalize=True)\n",
    "\n",
    "lasso_reg.fit(X,Y)\n",
    "\n",
    "lasso_reg.coef_\n",
    "\n",
    "pred = lasso_reg.predict(X)\n",
    "\n",
    "mse = np.mean((pred - Y)**2)\n",
    "\n",
    "print('mse:',mse)\n",
    "\n",
    "lasso_reg.score(X,Y)\n"
   ]
  },
  {
   "cell_type": "markdown",
   "metadata": {},
   "source": [
    "### 1.1.1. Create a visualization of the coefficient trajectories"
   ]
  },
  {
   "cell_type": "code",
   "execution_count": 2,
   "metadata": {},
   "outputs": [
    {
     "data": {
      "image/png": "[encoded data removed]",
      "text/plain": [
       "<matplotlib.figure.Figure at 0x1306b65d5c0>"
      ]
     },
     "metadata": {},
     "output_type": "display_data"
    }
   ],
   "source": [
    "\n",
    "\n",
    "import matplotlib.pyplot as plt\n",
    "\n",
    "# get an alphas array\n",
    "alphas = 10**np.linspace(2,-1,100)\n",
    "\n",
    "lasso = Lasso(normalize = True)\n",
    "coefs = []\n",
    "\n",
    "for a in alphas:\n",
    "    lasso.set_params(alpha = a)\n",
    "    lasso.fit(X, Y)\n",
    "    coefs.append(lasso.coef_)\n",
    "\n",
    "\n",
    "ax = plt.gca()\n",
    "ax.plot(alphas, coefs)\n",
    "ax.set_xscale('log')\n",
    "plt.axis('tight')\n",
    "plt.xlabel('alpha')\n",
    "plt.ylabel('weights')\n",
    "plt.title('Lasso coefficients as a function of the regularization')\n",
    "plt.show()\n"
   ]
  },
  {
   "cell_type": "code",
   "execution_count": 3,
   "metadata": {},
   "outputs": [
    {
     "data": {
      "text/plain": [
       "array([ 0.,  0.,  0.,  0.,  0.,  0.,  0.,  0.,  0.,  0.,  0.,  0.,  0.,\n",
       "        0.,  0., -0.])"
      ]
     },
     "execution_count": 3,
     "metadata": {},
     "output_type": "execute_result"
    }
   ],
   "source": [
    "coefs[0] # all zeros"
   ]
  },
  {
   "cell_type": "markdown",
   "metadata": {},
   "source": [
    "### 1.1.2. Comment on which are the final three predictors that remain in the model\n",
    "\n",
    "After running the code below, we can know the final three predictors that remain in the model are **Hits, CRuns, and CRBI.**\n"
   ]
  },
  {
   "cell_type": "code",
   "execution_count": 4,
   "metadata": {},
   "outputs": [
    {
     "name": "stdout",
     "output_type": "stream",
     "text": [
      "[ 0.          0.32947459  0.          0.          0.          0.          0.\n",
      "  0.          0.          0.          0.07632197  0.20447492  0.          0.\n",
      "  0.          0.        ]\n"
     ]
    },
    {
     "data": {
      "text/plain": [
       "Index(['AtBat', 'Hits', 'HmRun', 'Runs', 'RBI', 'Walks', 'Years', 'CAtBat',\n",
       "       'CHits', 'CHmRun', 'CRuns', 'CRBI', 'CWalks', 'PutOuts', 'Assists',\n",
       "       'Errors', 'Salary'],\n",
       "      dtype='object')"
      ]
     },
     "execution_count": 4,
     "metadata": {},
     "output_type": "execute_result"
    }
   ],
   "source": [
    "\n",
    "print(coefs[33])\n",
    "df.columns"
   ]
  },
  {
   "cell_type": "markdown",
   "metadata": {},
   "source": [
    "### 1.1.3. Use cross-validation to find the optimal value of the regularization penalty"
   ]
  },
  {
   "cell_type": "code",
   "execution_count": 5,
   "metadata": {},
   "outputs": [
    {
     "name": "stdout",
     "output_type": "stream",
     "text": [
      "Best alpha: 0.247707635599\n",
      "mse: 99837.74604435197\n"
     ]
    },
    {
     "data": {
      "text/plain": [
       "AtBat     -1.388944\n",
       "Hits       5.449126\n",
       "HmRun     -0.000000\n",
       "Runs       0.000000\n",
       "RBI        0.084933\n",
       "Walks      4.204282\n",
       "Years     -7.343615\n",
       "CAtBat    -0.000000\n",
       "CHits      0.000000\n",
       "CHmRun     0.455743\n",
       "CRuns      0.582623\n",
       "CRBI       0.326858\n",
       "CWalks    -0.363319\n",
       "PutOuts    0.271797\n",
       "Assists    0.120669\n",
       "Errors    -1.197745\n",
       "dtype: float64"
      ]
     },
     "execution_count": 5,
     "metadata": {},
     "output_type": "execute_result"
    }
   ],
   "source": [
    "lasso_cv = LassoCV(alphas = alphas, normalize = True)\n",
    "lasso_cv.fit(X, Y)\n",
    "print('Best alpha:', lasso_cv.alpha_)\n",
    "\n",
    "lasso_best_alpha = Lasso(alpha = lasso_cv.alpha_, normalize = True)\n",
    "lasso_best_alpha.fit(X, Y)\n",
    "mse = np.mean((Y-lasso_best_alpha.predict(X))**2)\n",
    "print('mse:',mse)\n",
    "pd.Series(lasso_best_alpha.coef_, index = X.columns)"
   ]
  },
  {
   "cell_type": "markdown",
   "metadata": {},
   "source": [
    "### 1.1.4. How many predictors are left in that model?\n",
    "\n",
    "**Answer: ** Total 12 predictors are left in the model. "
   ]
  },
  {
   "cell_type": "markdown",
   "metadata": {},
   "source": [
    "## Regularization 1.2\n",
    "\n",
    "Using the accompanying Hitters dataset (found here (Links to an external site.)Links to an external site.), we will explore regression models to predict a player's Salary from other variables. You can use any programming languages or frameworks that you wish.\n",
    "\n",
    "1.2 Repeat with Ridge Regression. \n",
    "\n",
    "1.2.1 Visualize the coefficient trajectories\n",
    "\n",
    "1.2.2 Use cross-validation to find the optimal value of the regularization penalty\n",
    "\n"
   ]
  },
  {
   "cell_type": "markdown",
   "metadata": {},
   "source": [
    "### 1.2 Repeat with Ridge Regression."
   ]
  },
  {
   "cell_type": "code",
   "execution_count": 6,
   "metadata": {},
   "outputs": [
    {
     "name": "stdout",
     "output_type": "stream",
     "text": [
      "mse: 113890.20436157893\n"
     ]
    },
    {
     "data": {
      "text/plain": [
       "0.43822914184959982"
      ]
     },
     "execution_count": 6,
     "metadata": {},
     "output_type": "execute_result"
    }
   ],
   "source": [
    "\n",
    "ridge_reg = Ridge(normalize=True)\n",
    "\n",
    "ridge_reg.fit(X,Y)\n",
    "\n",
    "ridge_reg.coef_\n",
    "\n",
    "pred = ridge_reg.predict(X)\n",
    "\n",
    "mse = np.mean((pred - Y)**2)\n",
    "\n",
    "print('mse:',mse)\n",
    "\n",
    "ridge_reg.score(X,Y)"
   ]
  },
  {
   "cell_type": "markdown",
   "metadata": {},
   "source": [
    "### 1.2.1 Visualize the coefficient trajectories"
   ]
  },
  {
   "cell_type": "code",
   "execution_count": 7,
   "metadata": {
    "scrolled": true
   },
   "outputs": [
    {
     "data": {
      "image/png": "[encoded data removed]",
      "text/plain": [
       "<matplotlib.figure.Figure at 0x1306ee740f0>"
      ]
     },
     "metadata": {},
     "output_type": "display_data"
    }
   ],
   "source": [
    "\n",
    "# get an alphas array\n",
    "alphas = 10**np.linspace(5,-4,100)\n",
    "\n",
    "ridge = Ridge(normalize = True)\n",
    "coefs = []\n",
    "\n",
    "for a in alphas:\n",
    "    ridge.set_params(alpha = a)\n",
    "    ridge.fit(X, Y)\n",
    "    coefs.append(ridge.coef_)\n",
    "\n",
    "\n",
    "ax = plt.gca()\n",
    "ax.plot(alphas, coefs)\n",
    "ax.set_xscale('log')\n",
    "plt.axis('tight')\n",
    "plt.xlabel('alpha')\n",
    "plt.ylabel('weights')\n",
    "plt.title('Ridge coefficients as a function of the regularization')\n",
    "plt.show()\n"
   ]
  },
  {
   "cell_type": "code",
   "execution_count": 8,
   "metadata": {},
   "outputs": [
    {
     "data": {
      "text/plain": [
       "array([  1.20887460e-05,   4.38516332e-05,   1.76695542e-04,\n",
       "         7.41561815e-05,   7.83318832e-05,   9.21924200e-05,\n",
       "         3.77020075e-04,   1.03793100e-06,   3.81989337e-06,\n",
       "         2.88072395e-05,   7.66355957e-06,   7.90896152e-06,\n",
       "         8.36757366e-06,   4.84208532e-06,   7.90883857e-07,\n",
       "        -3.68819982e-06])"
      ]
     },
     "execution_count": 8,
     "metadata": {},
     "output_type": "execute_result"
    }
   ],
   "source": [
    "coefs[0] # not all zeros"
   ]
  },
  {
   "cell_type": "markdown",
   "metadata": {},
   "source": [
    "### 1.2.2 Use cross-validation to find the optimal value of the regularization penalty"
   ]
  },
  {
   "cell_type": "code",
   "execution_count": 9,
   "metadata": {},
   "outputs": [
    {
     "name": "stdout",
     "output_type": "stream",
     "text": [
      "Best alpha: 0.01\n",
      "mse: 97322.52475362852\n"
     ]
    },
    {
     "data": {
      "text/plain": [
       "AtBat     -1.765114\n",
       "Hits       5.714498\n",
       "HmRun     -1.429366\n",
       "Runs       0.181913\n",
       "RBI        0.993351\n",
       "Walks      5.033247\n",
       "Years     -9.697173\n",
       "CAtBat    -0.060149\n",
       "CHits      0.176663\n",
       "CHmRun     0.694756\n",
       "CRuns      0.754426\n",
       "CRBI       0.348509\n",
       "CWalks    -0.556707\n",
       "PutOuts    0.289648\n",
       "Assists    0.299294\n",
       "Errors    -3.412725\n",
       "dtype: float64"
      ]
     },
     "execution_count": 9,
     "metadata": {},
     "output_type": "execute_result"
    }
   ],
   "source": [
    "ridge_cv = RidgeCV(alphas = alphas, normalize = True)\n",
    "ridge_cv.fit(X, Y)\n",
    "print('Best alpha:', ridge_cv.alpha_)\n",
    "\n",
    "\n",
    "ridge_best_alpha = Ridge(alpha = ridge_cv.alpha_, normalize = True)\n",
    "ridge_best_alpha.fit(X, Y)\n",
    "mse = np.mean((Y-ridge_best_alpha.predict(X))**2)\n",
    "print('mse:',mse)\n",
    "pd.Series(ridge_best_alpha.coef_, index = X.columns)"
   ]
  },
  {
   "cell_type": "markdown",
   "metadata": {},
   "source": [
    "## Short Answer\n",
    "\n",
    "2.1 Explain in your own words the bias-variance tradeoff\n",
    "\n",
    "2.2 What role does regularization play in this tradeoff? \n",
    "\n",
    "2.3 Make reference to your findings in number (1) to describe models of high/low bias and variance\n"
   ]
  },
  {
   "cell_type": "markdown",
   "metadata": {},
   "source": [
    "### 2.1 Explain in your own words the bias-variance tradeoff\n",
    "\n",
    "**Answer: ** When a model is very flexible, which means that it has really high variance, then this model will have pretty low bias since it's flexible enough to follow the data trend. However, when a model is not very flexible, which means that it has low variance, then this model will have quite high bias because of its inflexibility.  \n",
    "\n",
    "\n",
    "### 2.2 What role does regularization play in this tradeoff?\n",
    "\n",
    "**Answer: ** When bias is very low and variance is very high, it is likely that your model is overfitting. However, regularization can effectively prevent overfitting. Including regularization while training the model, the model won't be too flexible with high variance and low bias. Instead, regularization will help to find the best point to stop increasing flexibility to avoid overfitting.  \n",
    "\n",
    "\n",
    "### 2.3 Make reference to your findings in number (1) to describe models of high/low bias and variance\n",
    "\n",
    "**Answer: ** Looking at two plots of **coefficients as a function of the regularization**, when the regularization parameter is small, all coefficients are quite large, which means that the model has high variance and at the same time, it has pretty low bias. However, the model might be overfitting. When the regularization parameter is large, all coefficients become smaller, which means that the model has low variance and at the same time, it has relatively high bias. \n",
    "\n"
   ]
  },
  {
   "cell_type": "markdown",
   "metadata": {},
   "source": []
  }
 ],
 "metadata": {
  "kernelspec": {
   "display_name": "Python 3",
   "language": "python",
   "name": "python3"
  },
  "language_info": {
   "codemirror_mode": {
    "name": "ipython",
    "version": 3
   },
   "file_extension": ".py",
   "mimetype": "text/x-python",
   "name": "python",
   "nbconvert_exporter": "python",
   "pygments_lexer": "ipython3",
   "version": "3.6.1"
  }
 },
 "nbformat": 4,
 "nbformat_minor": 2
}
